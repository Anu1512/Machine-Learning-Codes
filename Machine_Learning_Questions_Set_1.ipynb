{
  "nbformat": 4,
  "nbformat_minor": 0,
  "metadata": {
    "colab": {
      "provenance": []
    },
    "kernelspec": {
      "name": "python3",
      "display_name": "Python 3"
    },
    "language_info": {
      "name": "python"
    }
  },
  "cells": [
    {
      "cell_type": "markdown",
      "source": [
        "Write a program to implement K-Nearest Neighbour algorithm on a multiclass data set. Print both correct and wrong predictions. Print the classification report and confusion matrix.\n",
        "Also show the accuracy for various values of K."
      ],
      "metadata": {
        "id": "eW9v5lGOpxo8"
      }
    },
    {
      "cell_type": "code",
      "source": [
        "import numpy as np\n",
        "import pandas as pd\n",
        "from sklearn.model_selection import train_test_split\n",
        "from sklearn.preprocessing import StandardScaler\n",
        "from sklearn.neighbors import KNeighborsClassifier\n",
        "from sklearn.metrics import classification_report, confusion_matrix, accuracy_score\n",
        "import matplotlib.pyplot as plt\n",
        "\n",
        "# Sample multiclass dataset\n",
        "# Replace this with your own dataset\n",
        "data = {\n",
        "    'Feature1': [5.1, 4.9, 4.7, 4.6, 5.0, 6.2, 6.1, 6.4, 7.2, 7.1],\n",
        "    'Feature2': [3.5, 3.0, 3.2, 3.1, 3.6, 2.9, 3.0, 2.8, 3.0, 3.1],\n",
        "    'Class': ['A', 'A', 'A', 'A', 'A', 'B', 'B', 'B', 'C', 'C']\n",
        "}\n",
        "\n",
        "df = pd.DataFrame(data)\n",
        "\n",
        "# Splitting the dataset into features and target variable\n",
        "X = df.drop('Class', axis=1)\n",
        "y = df['Class']\n",
        "\n",
        "# Splitting the dataset into training and testing sets\n",
        "X_train, X_test, y_train, y_test = train_test_split(X, y, test_size=0.2, random_state=42)\n",
        "\n",
        "# Feature scaling\n",
        "scaler = StandardScaler()\n",
        "X_train = scaler.fit_transform(X_train)\n",
        "X_test = scaler.transform(X_test)\n",
        "\n",
        "# KNN algorithm\n",
        "def knn_classifier(k):\n",
        "    if k > len(X_train):\n",
        "        print(f'K = {k}')\n",
        "        print('Number of neighbors cannot exceed the number of samples in the training dataset.')\n",
        "        return\n",
        "\n",
        "    knn = KNeighborsClassifier(n_neighbors=k)\n",
        "    knn.fit(X_train, y_train)\n",
        "    y_pred = knn.predict(X_test)\n",
        "\n",
        "    # Print correct and wrong predictions\n",
        "    correct_predictions = np.sum(y_pred == y_test)\n",
        "    wrong_predictions = len(y_test) - correct_predictions\n",
        "    print(f'K = {k}')\n",
        "    print(f'Correct Predictions: {correct_predictions}')\n",
        "    print(f'Wrong Predictions: {wrong_predictions}')\n",
        "\n",
        "    # Print classification report and confusion matrix\n",
        "    print('\\nClassification Report:')\n",
        "    print(classification_report(y_test, y_pred))\n",
        "\n",
        "    print('\\nConfusion Matrix:')\n",
        "    print(confusion_matrix(y_test, y_pred))\n",
        "\n",
        "    # Print accuracy\n",
        "    accuracy = accuracy_score(y_test, y_pred)\n",
        "    print(f'\\nAccuracy: {accuracy * 100:.2f}%')\n",
        "    print('-' * 50)\n",
        "\n",
        "# List of K values\n",
        "k_values = [1, 3, 5, 7, 8]\n",
        "\n",
        "# Apply KNN algorithm for each K value\n",
        "for k in k_values:\n",
        "    knn_classifier(k)\n"
      ],
      "metadata": {
        "colab": {
          "base_uri": "https://localhost:8080/"
        },
        "id": "ytpfPBMKqSzz",
        "outputId": "b2ab5ff1-ec2d-40a9-c8d8-3b9859090037"
      },
      "execution_count": null,
      "outputs": [
        {
          "output_type": "stream",
          "name": "stdout",
          "text": [
            "K = 1\n",
            "Correct Predictions: 2\n",
            "Wrong Predictions: 0\n",
            "\n",
            "Classification Report:\n",
            "              precision    recall  f1-score   support\n",
            "\n",
            "           A       1.00      1.00      1.00         1\n",
            "           C       1.00      1.00      1.00         1\n",
            "\n",
            "    accuracy                           1.00         2\n",
            "   macro avg       1.00      1.00      1.00         2\n",
            "weighted avg       1.00      1.00      1.00         2\n",
            "\n",
            "\n",
            "Confusion Matrix:\n",
            "[[1 0]\n",
            " [0 1]]\n",
            "\n",
            "Accuracy: 100.00%\n",
            "--------------------------------------------------\n",
            "K = 3\n",
            "Correct Predictions: 1\n",
            "Wrong Predictions: 1\n",
            "\n",
            "Classification Report:\n",
            "              precision    recall  f1-score   support\n",
            "\n",
            "           A       1.00      1.00      1.00         1\n",
            "           B       0.00      0.00      0.00         0\n",
            "           C       0.00      0.00      0.00         1\n",
            "\n",
            "    accuracy                           0.50         2\n",
            "   macro avg       0.33      0.33      0.33         2\n",
            "weighted avg       0.50      0.50      0.50         2\n",
            "\n",
            "\n",
            "Confusion Matrix:\n",
            "[[1 0 0]\n",
            " [0 0 0]\n",
            " [0 1 0]]\n",
            "\n",
            "Accuracy: 50.00%\n",
            "--------------------------------------------------\n",
            "K = 5\n",
            "Correct Predictions: 0\n",
            "Wrong Predictions: 2\n",
            "\n",
            "Classification Report:\n",
            "              precision    recall  f1-score   support\n",
            "\n",
            "           A       0.00      0.00      0.00       1.0\n",
            "           B       0.00      0.00      0.00       0.0\n",
            "           C       0.00      0.00      0.00       1.0\n",
            "\n",
            "    accuracy                           0.00       2.0\n",
            "   macro avg       0.00      0.00      0.00       2.0\n",
            "weighted avg       0.00      0.00      0.00       2.0\n",
            "\n",
            "\n",
            "Confusion Matrix:\n",
            "[[0 1 0]\n",
            " [0 0 0]\n",
            " [0 1 0]]\n",
            "\n",
            "Accuracy: 0.00%\n",
            "--------------------------------------------------\n",
            "K = 7\n",
            "Correct Predictions: 1\n",
            "Wrong Predictions: 1\n",
            "\n",
            "Classification Report:\n",
            "              precision    recall  f1-score   support\n",
            "\n",
            "           A       0.50      1.00      0.67         1\n",
            "           C       0.00      0.00      0.00         1\n",
            "\n",
            "    accuracy                           0.50         2\n",
            "   macro avg       0.25      0.50      0.33         2\n",
            "weighted avg       0.25      0.50      0.33         2\n",
            "\n",
            "\n",
            "Confusion Matrix:\n",
            "[[1 0]\n",
            " [1 0]]\n",
            "\n",
            "Accuracy: 50.00%\n",
            "--------------------------------------------------\n",
            "K = 8\n",
            "Correct Predictions: 1\n",
            "Wrong Predictions: 1\n",
            "\n",
            "Classification Report:\n",
            "              precision    recall  f1-score   support\n",
            "\n",
            "           A       0.50      1.00      0.67         1\n",
            "           C       0.00      0.00      0.00         1\n",
            "\n",
            "    accuracy                           0.50         2\n",
            "   macro avg       0.25      0.50      0.33         2\n",
            "weighted avg       0.25      0.50      0.33         2\n",
            "\n",
            "\n",
            "Confusion Matrix:\n",
            "[[1 0]\n",
            " [1 0]]\n",
            "\n",
            "Accuracy: 50.00%\n",
            "--------------------------------------------------\n"
          ]
        },
        {
          "output_type": "stream",
          "name": "stderr",
          "text": [
            "/usr/local/lib/python3.10/dist-packages/sklearn/metrics/_classification.py:1344: UndefinedMetricWarning: Precision and F-score are ill-defined and being set to 0.0 in labels with no predicted samples. Use `zero_division` parameter to control this behavior.\n",
            "  _warn_prf(average, modifier, msg_start, len(result))\n",
            "/usr/local/lib/python3.10/dist-packages/sklearn/metrics/_classification.py:1344: UndefinedMetricWarning: Recall and F-score are ill-defined and being set to 0.0 in labels with no true samples. Use `zero_division` parameter to control this behavior.\n",
            "  _warn_prf(average, modifier, msg_start, len(result))\n",
            "/usr/local/lib/python3.10/dist-packages/sklearn/metrics/_classification.py:1344: UndefinedMetricWarning: Precision and F-score are ill-defined and being set to 0.0 in labels with no predicted samples. Use `zero_division` parameter to control this behavior.\n",
            "  _warn_prf(average, modifier, msg_start, len(result))\n",
            "/usr/local/lib/python3.10/dist-packages/sklearn/metrics/_classification.py:1344: UndefinedMetricWarning: Recall and F-score are ill-defined and being set to 0.0 in labels with no true samples. Use `zero_division` parameter to control this behavior.\n",
            "  _warn_prf(average, modifier, msg_start, len(result))\n",
            "/usr/local/lib/python3.10/dist-packages/sklearn/metrics/_classification.py:1344: UndefinedMetricWarning: Precision and F-score are ill-defined and being set to 0.0 in labels with no predicted samples. Use `zero_division` parameter to control this behavior.\n",
            "  _warn_prf(average, modifier, msg_start, len(result))\n",
            "/usr/local/lib/python3.10/dist-packages/sklearn/metrics/_classification.py:1344: UndefinedMetricWarning: Recall and F-score are ill-defined and being set to 0.0 in labels with no true samples. Use `zero_division` parameter to control this behavior.\n",
            "  _warn_prf(average, modifier, msg_start, len(result))\n",
            "/usr/local/lib/python3.10/dist-packages/sklearn/metrics/_classification.py:1344: UndefinedMetricWarning: Precision and F-score are ill-defined and being set to 0.0 in labels with no predicted samples. Use `zero_division` parameter to control this behavior.\n",
            "  _warn_prf(average, modifier, msg_start, len(result))\n",
            "/usr/local/lib/python3.10/dist-packages/sklearn/metrics/_classification.py:1344: UndefinedMetricWarning: Recall and F-score are ill-defined and being set to 0.0 in labels with no true samples. Use `zero_division` parameter to control this behavior.\n",
            "  _warn_prf(average, modifier, msg_start, len(result))\n",
            "/usr/local/lib/python3.10/dist-packages/sklearn/metrics/_classification.py:1344: UndefinedMetricWarning: Precision and F-score are ill-defined and being set to 0.0 in labels with no predicted samples. Use `zero_division` parameter to control this behavior.\n",
            "  _warn_prf(average, modifier, msg_start, len(result))\n",
            "/usr/local/lib/python3.10/dist-packages/sklearn/metrics/_classification.py:1344: UndefinedMetricWarning: Recall and F-score are ill-defined and being set to 0.0 in labels with no true samples. Use `zero_division` parameter to control this behavior.\n",
            "  _warn_prf(average, modifier, msg_start, len(result))\n",
            "/usr/local/lib/python3.10/dist-packages/sklearn/metrics/_classification.py:1344: UndefinedMetricWarning: Precision and F-score are ill-defined and being set to 0.0 in labels with no predicted samples. Use `zero_division` parameter to control this behavior.\n",
            "  _warn_prf(average, modifier, msg_start, len(result))\n",
            "/usr/local/lib/python3.10/dist-packages/sklearn/metrics/_classification.py:1344: UndefinedMetricWarning: Recall and F-score are ill-defined and being set to 0.0 in labels with no true samples. Use `zero_division` parameter to control this behavior.\n",
            "  _warn_prf(average, modifier, msg_start, len(result))\n",
            "/usr/local/lib/python3.10/dist-packages/sklearn/metrics/_classification.py:1344: UndefinedMetricWarning: Precision and F-score are ill-defined and being set to 0.0 in labels with no predicted samples. Use `zero_division` parameter to control this behavior.\n",
            "  _warn_prf(average, modifier, msg_start, len(result))\n",
            "/usr/local/lib/python3.10/dist-packages/sklearn/metrics/_classification.py:1344: UndefinedMetricWarning: Precision and F-score are ill-defined and being set to 0.0 in labels with no predicted samples. Use `zero_division` parameter to control this behavior.\n",
            "  _warn_prf(average, modifier, msg_start, len(result))\n",
            "/usr/local/lib/python3.10/dist-packages/sklearn/metrics/_classification.py:1344: UndefinedMetricWarning: Precision and F-score are ill-defined and being set to 0.0 in labels with no predicted samples. Use `zero_division` parameter to control this behavior.\n",
            "  _warn_prf(average, modifier, msg_start, len(result))\n",
            "/usr/local/lib/python3.10/dist-packages/sklearn/metrics/_classification.py:1344: UndefinedMetricWarning: Precision and F-score are ill-defined and being set to 0.0 in labels with no predicted samples. Use `zero_division` parameter to control this behavior.\n",
            "  _warn_prf(average, modifier, msg_start, len(result))\n",
            "/usr/local/lib/python3.10/dist-packages/sklearn/metrics/_classification.py:1344: UndefinedMetricWarning: Precision and F-score are ill-defined and being set to 0.0 in labels with no predicted samples. Use `zero_division` parameter to control this behavior.\n",
            "  _warn_prf(average, modifier, msg_start, len(result))\n",
            "/usr/local/lib/python3.10/dist-packages/sklearn/metrics/_classification.py:1344: UndefinedMetricWarning: Precision and F-score are ill-defined and being set to 0.0 in labels with no predicted samples. Use `zero_division` parameter to control this behavior.\n",
            "  _warn_prf(average, modifier, msg_start, len(result))\n"
          ]
        }
      ]
    },
    {
      "cell_type": "markdown",
      "source": [
        "Write a program to implement K-Nearest Neighbour algorithm on a two class data set. Print both correct and wrong predictions. Print the classification report and confusion matrix.\n",
        "Also show the accuracy for various values of K."
      ],
      "metadata": {
        "id": "dAW9keEQp5gs"
      }
    },
    {
      "cell_type": "code",
      "source": [
        "import numpy as np\n",
        "import pandas as pd\n",
        "from sklearn.model_selection import train_test_split\n",
        "from sklearn.preprocessing import StandardScaler\n",
        "from sklearn.neighbors import KNeighborsClassifier\n",
        "from sklearn.metrics import classification_report, confusion_matrix, accuracy_score\n",
        "import matplotlib.pyplot as plt\n",
        "\n",
        "# Sample two-class dataset\n",
        "data = {\n",
        "    'Feature1': [1.5, 2.0, 2.5, 3.0, 3.5, 7.0, 7.5, 8.0, 8.5, 9.0],\n",
        "    'Feature2': [2.0, 2.5, 3.0, 3.5, 4.0, 1.0, 1.5, 2.0, 2.5, 3.0],\n",
        "    'Class': [0, 0, 0, 0, 0, 1, 1, 1, 1, 1]\n",
        "}\n",
        "\n",
        "df = pd.DataFrame(data)\n",
        "\n",
        "# Splitting the dataset into features and target variable\n",
        "X = df.drop('Class', axis=1)\n",
        "y = df['Class']\n",
        "\n",
        "# Splitting the dataset into training and testing sets\n",
        "X_train, X_test, y_train, y_test = train_test_split(X, y, test_size=0.2, random_state=42)\n",
        "\n",
        "# Feature scaling\n",
        "scaler = StandardScaler()\n",
        "X_train = scaler.fit_transform(X_train)\n",
        "X_test = scaler.transform(X_test)\n",
        "\n",
        "# KNN algorithm\n",
        "def knn_classifier(k):\n",
        "    if k > len(X_train):\n",
        "        print(f'K = {k}')\n",
        "        print('Number of neighbors cannot exceed the number of samples in the training dataset.')\n",
        "        return\n",
        "\n",
        "    knn = KNeighborsClassifier(n_neighbors=k)\n",
        "    knn.fit(X_train, y_train)\n",
        "    y_pred = knn.predict(X_test)\n",
        "\n",
        "    # Print correct and wrong predictions\n",
        "    correct_predictions = np.sum(y_pred == y_test)\n",
        "    wrong_predictions = len(y_test) - correct_predictions\n",
        "    print(f'K = {k}')\n",
        "    print(f'Correct Predictions: {correct_predictions}')\n",
        "    print(f'Wrong Predictions: {wrong_predictions}')\n",
        "\n",
        "    # Print classification report and confusion matrix\n",
        "    print('\\nClassification Report:')\n",
        "    print(classification_report(y_test, y_pred))\n",
        "\n",
        "    print('\\nConfusion Matrix:')\n",
        "    print(confusion_matrix(y_test, y_pred))\n",
        "\n",
        "    # Print accuracy\n",
        "    accuracy = accuracy_score(y_test, y_pred)\n",
        "    print(f'\\nAccuracy: {accuracy * 100:.2f}%')\n",
        "    print('-' * 50)\n",
        "\n",
        "# List of K values\n",
        "k_values = [1, 3, 5, 7, 8]\n",
        "\n",
        "# Apply KNN algorithm for each K value\n",
        "for k in k_values:\n",
        "    knn_classifier(k)\n"
      ],
      "metadata": {
        "colab": {
          "base_uri": "https://localhost:8080/"
        },
        "id": "s7hWatGdq02L",
        "outputId": "c126c883-4371-411b-91f6-a7237c775fad"
      },
      "execution_count": null,
      "outputs": [
        {
          "output_type": "stream",
          "name": "stdout",
          "text": [
            "K = 1\n",
            "Correct Predictions: 2\n",
            "Wrong Predictions: 0\n",
            "\n",
            "Classification Report:\n",
            "              precision    recall  f1-score   support\n",
            "\n",
            "           0       1.00      1.00      1.00         1\n",
            "           1       1.00      1.00      1.00         1\n",
            "\n",
            "    accuracy                           1.00         2\n",
            "   macro avg       1.00      1.00      1.00         2\n",
            "weighted avg       1.00      1.00      1.00         2\n",
            "\n",
            "\n",
            "Confusion Matrix:\n",
            "[[1 0]\n",
            " [0 1]]\n",
            "\n",
            "Accuracy: 100.00%\n",
            "--------------------------------------------------\n",
            "K = 3\n",
            "Correct Predictions: 2\n",
            "Wrong Predictions: 0\n",
            "\n",
            "Classification Report:\n",
            "              precision    recall  f1-score   support\n",
            "\n",
            "           0       1.00      1.00      1.00         1\n",
            "           1       1.00      1.00      1.00         1\n",
            "\n",
            "    accuracy                           1.00         2\n",
            "   macro avg       1.00      1.00      1.00         2\n",
            "weighted avg       1.00      1.00      1.00         2\n",
            "\n",
            "\n",
            "Confusion Matrix:\n",
            "[[1 0]\n",
            " [0 1]]\n",
            "\n",
            "Accuracy: 100.00%\n",
            "--------------------------------------------------\n",
            "K = 5\n",
            "Correct Predictions: 2\n",
            "Wrong Predictions: 0\n",
            "\n",
            "Classification Report:\n",
            "              precision    recall  f1-score   support\n",
            "\n",
            "           0       1.00      1.00      1.00         1\n",
            "           1       1.00      1.00      1.00         1\n",
            "\n",
            "    accuracy                           1.00         2\n",
            "   macro avg       1.00      1.00      1.00         2\n",
            "weighted avg       1.00      1.00      1.00         2\n",
            "\n",
            "\n",
            "Confusion Matrix:\n",
            "[[1 0]\n",
            " [0 1]]\n",
            "\n",
            "Accuracy: 100.00%\n",
            "--------------------------------------------------\n",
            "K = 7\n",
            "Correct Predictions: 2\n",
            "Wrong Predictions: 0\n",
            "\n",
            "Classification Report:\n",
            "              precision    recall  f1-score   support\n",
            "\n",
            "           0       1.00      1.00      1.00         1\n",
            "           1       1.00      1.00      1.00         1\n",
            "\n",
            "    accuracy                           1.00         2\n",
            "   macro avg       1.00      1.00      1.00         2\n",
            "weighted avg       1.00      1.00      1.00         2\n",
            "\n",
            "\n",
            "Confusion Matrix:\n",
            "[[1 0]\n",
            " [0 1]]\n",
            "\n",
            "Accuracy: 100.00%\n",
            "--------------------------------------------------\n",
            "K = 8\n",
            "Correct Predictions: 1\n",
            "Wrong Predictions: 1\n",
            "\n",
            "Classification Report:\n",
            "              precision    recall  f1-score   support\n",
            "\n",
            "           0       0.50      1.00      0.67         1\n",
            "           1       0.00      0.00      0.00         1\n",
            "\n",
            "    accuracy                           0.50         2\n",
            "   macro avg       0.25      0.50      0.33         2\n",
            "weighted avg       0.25      0.50      0.33         2\n",
            "\n",
            "\n",
            "Confusion Matrix:\n",
            "[[1 0]\n",
            " [1 0]]\n",
            "\n",
            "Accuracy: 50.00%\n",
            "--------------------------------------------------\n"
          ]
        },
        {
          "output_type": "stream",
          "name": "stderr",
          "text": [
            "/usr/local/lib/python3.10/dist-packages/sklearn/metrics/_classification.py:1344: UndefinedMetricWarning: Precision and F-score are ill-defined and being set to 0.0 in labels with no predicted samples. Use `zero_division` parameter to control this behavior.\n",
            "  _warn_prf(average, modifier, msg_start, len(result))\n",
            "/usr/local/lib/python3.10/dist-packages/sklearn/metrics/_classification.py:1344: UndefinedMetricWarning: Precision and F-score are ill-defined and being set to 0.0 in labels with no predicted samples. Use `zero_division` parameter to control this behavior.\n",
            "  _warn_prf(average, modifier, msg_start, len(result))\n",
            "/usr/local/lib/python3.10/dist-packages/sklearn/metrics/_classification.py:1344: UndefinedMetricWarning: Precision and F-score are ill-defined and being set to 0.0 in labels with no predicted samples. Use `zero_division` parameter to control this behavior.\n",
            "  _warn_prf(average, modifier, msg_start, len(result))\n"
          ]
        }
      ]
    },
    {
      "cell_type": "markdown",
      "source": [
        "Write a program to split any dataset into 80:20 ratio without using SK Learn libraries. Write your own split function and check the results"
      ],
      "metadata": {
        "id": "dt-APrHLqLMs"
      }
    },
    {
      "cell_type": "code",
      "source": [
        "import numpy as np\n",
        "import pandas as pd\n",
        "\n",
        "# Sample dataset\n",
        "# Replace this with your own dataset\n",
        "data = {\n",
        "    'Feature1': [1, 2, 3, 4, 5, 6, 7, 8, 9, 10],\n",
        "    'Feature2': [11, 12, 13, 14, 15, 16, 17, 18, 19, 20],\n",
        "    'Class': [0, 0, 0, 0, 0, 1, 1, 1, 1, 1]\n",
        "}\n",
        "\n",
        "df = pd.DataFrame(data)\n",
        "\n",
        "# Splitting the dataset into features and target variable\n",
        "X = df.drop('Class', axis=1)\n",
        "y = df['Class']\n",
        "\n",
        "# Custom train-test split function\n",
        "def custom_train_test_split(X, y, test_size=0.2, random_state=None):\n",
        "    if random_state:\n",
        "        np.random.seed(random_state)\n",
        "\n",
        "    # Shuffle the indices\n",
        "    indices = np.arange(len(X))\n",
        "    np.random.shuffle(indices)\n",
        "\n",
        "    # Calculate the number of samples for the test set\n",
        "    test_samples = int(len(X) * test_size)\n",
        "\n",
        "    # Split the data\n",
        "    X_train = X.iloc[indices[:-test_samples]]\n",
        "    X_test = X.iloc[indices[-test_samples:]]\n",
        "    y_train = y.iloc[indices[:-test_samples]]\n",
        "    y_test = y.iloc[indices[-test_samples:]]\n",
        "\n",
        "    return X_train, X_test, y_train, y_test\n",
        "\n",
        "# Using custom train-test split function\n",
        "X_train, X_test, y_train, y_test = custom_train_test_split(X, y, test_size=0.2, random_state=42)\n",
        "\n",
        "# Print the results\n",
        "print(\"Training set:\")\n",
        "print(X_train)\n",
        "print(y_train)\n",
        "print(\"\\nTesting set:\")\n",
        "print(X_test)\n",
        "print(y_test)\n"
      ],
      "metadata": {
        "colab": {
          "base_uri": "https://localhost:8080/"
        },
        "id": "D4TK2VXGqhkl",
        "outputId": "1703ce9a-15f9-41d6-c7c3-296e3fbbdefc"
      },
      "execution_count": null,
      "outputs": [
        {
          "output_type": "stream",
          "name": "stdout",
          "text": [
            "Training set:\n",
            "   Feature1  Feature2\n",
            "8         9        19\n",
            "1         2        12\n",
            "5         6        16\n",
            "0         1        11\n",
            "7         8        18\n",
            "2         3        13\n",
            "9        10        20\n",
            "4         5        15\n",
            "8    1\n",
            "1    0\n",
            "5    1\n",
            "0    0\n",
            "7    1\n",
            "2    0\n",
            "9    1\n",
            "4    0\n",
            "Name: Class, dtype: int64\n",
            "\n",
            "Testing set:\n",
            "   Feature1  Feature2\n",
            "3         4        14\n",
            "6         7        17\n",
            "3    0\n",
            "6    1\n",
            "Name: Class, dtype: int64\n"
          ]
        }
      ]
    },
    {
      "cell_type": "code",
      "source": [
        "import numpy as np\n",
        "import pandas as pd\n",
        "from sklearn.datasets import load_iris\n",
        "\n",
        "# Load the iris dataset\n",
        "iris = load_iris()\n",
        "\n",
        "# Create a DataFrame\n",
        "df = pd.DataFrame(data= np.c_[iris['data'], iris['target']],\n",
        "                  columns= iris['feature_names'] + ['target'])\n",
        "\n",
        "# Convert target to integer\n",
        "df['target'] = df['target'].astype(int)\n",
        "\n",
        "# Splitting the dataset into features and target variable\n",
        "X = df.drop('target', axis=1)\n",
        "y = df['target']\n",
        "\n",
        "# Custom train-test split function\n",
        "def custom_train_test_split(X, y, test_size=0.2, random_state=None):\n",
        "    if random_state:\n",
        "        np.random.seed(random_state)\n",
        "\n",
        "    # Shuffle the indices\n",
        "    indices = np.arange(len(X))\n",
        "    np.random.shuffle(indices)\n",
        "\n",
        "    # Calculate the number of samples for the test set\n",
        "    test_samples = int(len(X) * test_size)\n",
        "\n",
        "    # Split the data\n",
        "    X_train = X.iloc[indices[:-test_samples]]\n",
        "    X_test = X.iloc[indices[-test_samples:]]\n",
        "    y_train = y.iloc[indices[:-test_samples]]\n",
        "    y_test = y.iloc[indices[-test_samples:]]\n",
        "\n",
        "    return X_train, X_test, y_train, y_test\n",
        "\n",
        "# Using custom train-test split function\n",
        "X_train, X_test, y_train, y_test = custom_train_test_split(X, y, test_size=0.2, random_state=42)\n",
        "\n",
        "# Print the results\n",
        "print(\"Training set:\")\n",
        "print(X_train.head())\n",
        "print(y_train.head())\n",
        "print(\"\\nTesting set:\")\n",
        "print(X_test.head())\n",
        "print(y_test.head())\n"
      ],
      "metadata": {
        "colab": {
          "base_uri": "https://localhost:8080/"
        },
        "id": "MOOSxDphrbT1",
        "outputId": "44a90c1e-a950-49ac-c3b5-5dc1f41efe50"
      },
      "execution_count": null,
      "outputs": [
        {
          "output_type": "stream",
          "name": "stdout",
          "text": [
            "Training set:\n",
            "     sepal length (cm)  sepal width (cm)  petal length (cm)  petal width (cm)\n",
            "73                 6.1               2.8                4.7               1.2\n",
            "18                 5.7               3.8                1.7               0.3\n",
            "118                7.7               2.6                6.9               2.3\n",
            "78                 6.0               2.9                4.5               1.5\n",
            "76                 6.8               2.8                4.8               1.4\n",
            "73     1\n",
            "18     0\n",
            "118    2\n",
            "78     1\n",
            "76     1\n",
            "Name: target, dtype: int64\n",
            "\n",
            "Testing set:\n",
            "    sepal length (cm)  sepal width (cm)  petal length (cm)  petal width (cm)\n",
            "91                6.1               3.0                4.6               1.4\n",
            "41                4.5               2.3                1.3               0.3\n",
            "58                6.6               2.9                4.6               1.3\n",
            "90                5.5               2.6                4.4               1.2\n",
            "48                5.3               3.7                1.5               0.2\n",
            "91    1\n",
            "41    0\n",
            "58    1\n",
            "90    1\n",
            "48    0\n",
            "Name: target, dtype: int64\n"
          ]
        }
      ]
    },
    {
      "cell_type": "code",
      "source": [
        "import numpy as np\n",
        "import pandas as pd\n",
        "from sklearn.datasets import load_diabetes\n",
        "\n",
        "# Load the diabetes dataset\n",
        "diabetes = load_diabetes()\n",
        "\n",
        "# Create a DataFrame\n",
        "df = pd.DataFrame(data= np.c_[diabetes['data'], diabetes['target']],\n",
        "                  columns= diabetes['feature_names'] + ['target'])\n",
        "\n",
        "# Splitting the dataset into features and target variable\n",
        "X = df.drop('target', axis=1)\n",
        "y = df['target']\n",
        "\n",
        "# Custom train-test split function\n",
        "def custom_train_test_split(X, y, test_size=0.2, random_state=None):\n",
        "    if random_state:\n",
        "        np.random.seed(random_state)\n",
        "\n",
        "    # Shuffle the indices\n",
        "    indices = np.arange(len(X))\n",
        "    np.random.shuffle(indices)\n",
        "\n",
        "    # Calculate the number of samples for the test set\n",
        "    test_samples = int(len(X) * test_size)\n",
        "\n",
        "    # Split the data\n",
        "    X_train = X.iloc[indices[:-test_samples]]\n",
        "    X_test = X.iloc[indices[-test_samples:]]\n",
        "    y_train = y.iloc[indices[:-test_samples]]\n",
        "    y_test = y.iloc[indices[-test_samples:]]\n",
        "\n",
        "    return X_train, X_test, y_train, y_test\n",
        "\n",
        "# Using custom train-test split function\n",
        "X_train, X_test, y_train, y_test = custom_train_test_split(X, y, test_size=0.2, random_state=42)\n",
        "\n",
        "# Print the results\n",
        "print(\"Training set:\")\n",
        "print(X_train.head())\n",
        "print(y_train.head())\n",
        "print(\"\\nTesting set:\")\n",
        "print(X_test.head())\n",
        "print(y_test.head())\n"
      ],
      "metadata": {
        "colab": {
          "base_uri": "https://localhost:8080/"
        },
        "id": "WPtYB_9ssBvM",
        "outputId": "5a6b138a-5722-49a8-c63d-55e760799473"
      },
      "execution_count": null,
      "outputs": [
        {
          "output_type": "stream",
          "name": "stdout",
          "text": [
            "Training set:\n",
            "          age       sex       bmi        bp        s1        s2        s3  \\\n",
            "287  0.045341 -0.044642 -0.006206 -0.015999  0.125019  0.125198  0.019187   \n",
            "211  0.092564 -0.044642  0.036907  0.021872 -0.024960 -0.016658  0.000779   \n",
            "72   0.063504  0.050680 -0.004050 -0.012556  0.103003  0.048790  0.056003   \n",
            "321  0.096197 -0.044642  0.051996  0.079265  0.054845  0.036577 -0.076536   \n",
            "73   0.012648  0.050680 -0.020218 -0.002228  0.038334  0.053174 -0.006584   \n",
            "\n",
            "           s4        s5        s6  \n",
            "287  0.034309  0.032432 -0.005220  \n",
            "211 -0.039493 -0.022517 -0.021788  \n",
            "72  -0.002592  0.084492 -0.017646  \n",
            "321  0.141322  0.098648  0.061054  \n",
            "73   0.034309 -0.005142 -0.009362  \n",
            "287    219.0\n",
            "211     70.0\n",
            "72     202.0\n",
            "321    230.0\n",
            "73     111.0\n",
            "Name: target, dtype: float64\n",
            "\n",
            "Testing set:\n",
            "          age       sex       bmi        bp        s1        s2        s3  \\\n",
            "212  0.067136 -0.044642  0.003494  0.035644  0.049341  0.031254  0.070730   \n",
            "295 -0.052738  0.050680  0.039062 -0.040099 -0.005697 -0.012900  0.011824   \n",
            "403 -0.020045 -0.044642  0.097264 -0.005670 -0.005697 -0.023861 -0.021311   \n",
            "251 -0.052738  0.050680  0.098342  0.087287  0.060349  0.048790 -0.058127   \n",
            "431  0.070769  0.050680 -0.030996  0.021872 -0.037344 -0.047034  0.033914   \n",
            "\n",
            "           s4        s5        s6  \n",
            "212 -0.039493 -0.000612  0.019633  \n",
            "295 -0.039493  0.016307  0.003064  \n",
            "403 -0.002592  0.061684  0.040343  \n",
            "251  0.108111  0.084492  0.040343  \n",
            "431 -0.039493 -0.014960 -0.001078  \n",
            "212     73.0\n",
            "295     85.0\n",
            "403    275.0\n",
            "251    243.0\n",
            "431     66.0\n",
            "Name: target, dtype: float64\n"
          ]
        }
      ]
    },
    {
      "cell_type": "markdown",
      "source": [
        "Write a program to create a random 10x4 array and extract the first five rows of the array and store them into a variable"
      ],
      "metadata": {
        "id": "n8aqJ8QGq_u8"
      }
    },
    {
      "cell_type": "code",
      "source": [
        "import numpy as np\n",
        "\n",
        "# Create a random 10x4 array\n",
        "array_10x4 = np.random.rand(10, 4)\n",
        "\n",
        "# Extract the first five rows of the array\n",
        "first_five_rows = array_10x4[:5, :]\n",
        "\n",
        "# Print the original array and the extracted rows\n",
        "print(\"Original 10x4 array:\")\n",
        "print(array_10x4)\n",
        "print(\"\\nFirst five rows:\")\n",
        "print(first_five_rows)\n"
      ],
      "metadata": {
        "colab": {
          "base_uri": "https://localhost:8080/"
        },
        "id": "gskLltGAq8r8",
        "outputId": "72ad325f-c847-4a93-e863-4b0dcd5b4345"
      },
      "execution_count": null,
      "outputs": [
        {
          "output_type": "stream",
          "name": "stdout",
          "text": [
            "Original 10x4 array:\n",
            "[[0.15599452 0.05808361 0.86617615 0.60111501]\n",
            " [0.70807258 0.02058449 0.96990985 0.83244264]\n",
            " [0.21233911 0.18182497 0.18340451 0.30424224]\n",
            " [0.52475643 0.43194502 0.29122914 0.61185289]\n",
            " [0.13949386 0.29214465 0.36636184 0.45606998]\n",
            " [0.78517596 0.19967378 0.51423444 0.59241457]\n",
            " [0.04645041 0.60754485 0.17052412 0.06505159]\n",
            " [0.94888554 0.96563203 0.80839735 0.30461377]\n",
            " [0.09767211 0.68423303 0.44015249 0.12203823]\n",
            " [0.49517691 0.03438852 0.9093204  0.25877998]]\n",
            "\n",
            "First five rows:\n",
            "[[0.15599452 0.05808361 0.86617615 0.60111501]\n",
            " [0.70807258 0.02058449 0.96990985 0.83244264]\n",
            " [0.21233911 0.18182497 0.18340451 0.30424224]\n",
            " [0.52475643 0.43194502 0.29122914 0.61185289]\n",
            " [0.13949386 0.29214465 0.36636184 0.45606998]]\n"
          ]
        }
      ]
    },
    {
      "cell_type": "markdown",
      "source": [
        "Write a program to Change an Array’s Shape, Reduce an Array’s Number of Dimensions Increase an Array’s Number of Dimensions. Use any dataset."
      ],
      "metadata": {
        "id": "fYmzvHAfq_W8"
      }
    },
    {
      "cell_type": "code",
      "source": [
        "import numpy as np\n",
        "from sklearn.datasets import load_iris\n",
        "\n",
        "# Load the iris dataset\n",
        "iris = load_iris()\n",
        "\n",
        "# Create a NumPy array from the iris dataset\n",
        "data = iris['data']\n",
        "\n",
        "# Print the original shape of the array\n",
        "print(\"Original Shape:\", data.shape)\n",
        "\n",
        "# Change the shape of the array to (30, 20)\n",
        "reshaped_data = data.reshape(30, 20)\n",
        "print(\"\\nAfter Changing Shape to (30, 20):\")\n",
        "print(reshaped_data.shape)\n",
        "\n",
        "# Reduce the number of dimensions of the array\n",
        "# Flatten the array to 1D\n",
        "flattened_data = data.flatten()\n",
        "print(\"\\nAfter Reducing to 1D:\")\n",
        "print(flattened_data.shape)\n",
        "\n",
        "# Increase the number of dimensions of the array\n",
        "# Convert the flattened array back to 2D with shape (150, 1)\n",
        "increased_dimensions_data = flattened_data[:, np.newaxis]\n",
        "print(\"\\nAfter Increasing to 2D with shape (150, 1):\")\n",
        "print(increased_dimensions_data.shape)\n"
      ],
      "metadata": {
        "colab": {
          "base_uri": "https://localhost:8080/"
        },
        "id": "BookHsWMsSVU",
        "outputId": "c6213a59-20e1-4fdf-f2df-ebcd9eae56a3"
      },
      "execution_count": null,
      "outputs": [
        {
          "output_type": "stream",
          "name": "stdout",
          "text": [
            "Original Shape: (150, 4)\n",
            "\n",
            "After Changing Shape to (30, 20):\n",
            "(30, 20)\n",
            "\n",
            "After Reducing to 1D:\n",
            "(600,)\n",
            "\n",
            "After Increasing to 2D with shape (150, 1):\n",
            "(600, 1)\n"
          ]
        }
      ]
    },
    {
      "cell_type": "markdown",
      "source": [
        "Write a program to show Uniform Distribution - Probability of getting a 2 in the roll of a die."
      ],
      "metadata": {
        "id": "pzqsDG03shDz"
      }
    },
    {
      "cell_type": "code",
      "source": [
        "import numpy as np\n",
        "import matplotlib.pyplot as plt\n",
        "\n",
        "# Number of trials\n",
        "n_trials = 10000\n",
        "\n",
        "# Simulate die rolls\n",
        "die_rolls = np.random.randint(1, 7, n_trials)\n",
        "\n",
        "# Calculate the probability of getting a 2\n",
        "probability_2 = np.sum(die_rolls == 2) / n_trials\n",
        "\n",
        "print(f\"Simulated Probability of getting a 2: {probability_2}\")\n",
        "\n",
        "# Plotting the histogram to show the uniform distribution\n",
        "plt.hist(die_rolls, bins=np.arange(0.5, 7.5, 1), color='blue', edgecolor='black', alpha=0.7)\n",
        "plt.xlabel('Die Roll')\n",
        "plt.ylabel('Frequency')\n",
        "plt.title('Uniform Distribution of Die Rolls')\n",
        "plt.xticks(range(1, 7))\n",
        "plt.grid(axis='y', linestyle='--', alpha=0.7)\n",
        "plt.show()\n"
      ],
      "metadata": {
        "colab": {
          "base_uri": "https://localhost:8080/",
          "height": 489
        },
        "id": "tq_kJNBKsgEj",
        "outputId": "b4880e40-a38b-442d-e098-3f835ca89739"
      },
      "execution_count": null,
      "outputs": [
        {
          "output_type": "stream",
          "name": "stdout",
          "text": [
            "Simulated Probability of getting a 2: 0.1713\n"
          ]
        },
        {
          "output_type": "display_data",
          "data": {
            "text/plain": [
              "<Figure size 640x480 with 1 Axes>"
            ],
            "image/png": "[encoded data removed]"
          },
          "metadata": {}
        }
      ]
    },
    {
      "cell_type": "markdown",
      "source": [
        "Write a program to show Bernoulli Distribution - Probability of getting 1 or 2 in the roll of a die."
      ],
      "metadata": {
        "id": "Z03_sW6At-cB"
      }
    },
    {
      "cell_type": "code",
      "source": [
        "import numpy as np\n",
        "import matplotlib.pyplot as plt\n",
        "\n",
        "# Number of trials\n",
        "n_trials = 10000\n",
        "\n",
        "# Simulate die rolls\n",
        "die_rolls = np.random.randint(1, 7, n_trials)\n",
        "\n",
        "# Define a Bernoulli trial\n",
        "bernoulli_trials = (die_rolls == 1) | (die_rolls == 2)\n",
        "\n",
        "# Calculate the probability of getting a 1 or 2\n",
        "probability_1_or_2 = np.sum(bernoulli_trials) / n_trials\n",
        "\n",
        "print(f\"Simulated Probability of getting a 1 or 2: {probability_1_or_2}\")\n",
        "\n",
        "# Plotting the histogram to show the Bernoulli distribution\n",
        "plt.hist(bernoulli_trials, bins=[0, 1, 2], color='green', edgecolor='black', alpha=0.7)\n",
        "plt.xlabel('Outcome (0: Failure, 1: Success)')\n",
        "plt.ylabel('Frequency')\n",
        "plt.title('Bernoulli Distribution of Die Rolls for 1 or 2')\n",
        "plt.xticks([0, 1], ['Failure', 'Success'])\n",
        "plt.yticks(range(0, n_trials+1, 1000))\n",
        "plt.grid(axis='y', linestyle='--', alpha=0.7)\n",
        "plt.show()\n"
      ],
      "metadata": {
        "colab": {
          "base_uri": "https://localhost:8080/",
          "height": 524
        },
        "id": "DBFi_95wsPck",
        "outputId": "5870680d-4e42-4a56-e56d-c0f624aee125"
      },
      "execution_count": null,
      "outputs": [
        {
          "output_type": "stream",
          "name": "stdout",
          "text": [
            "Simulated Probability of getting a 1 or 2: 0.337\n"
          ]
        },
        {
          "output_type": "stream",
          "name": "stderr",
          "text": [
            "/usr/local/lib/python3.10/dist-packages/matplotlib/axes/_axes.py:6790: RuntimeWarning: Converting input from bool to <class 'numpy.uint8'> for compatibility.\n",
            "  m, bins = np.histogram(x[i], bins, weights=w[i], **hist_kwargs)\n"
          ]
        },
        {
          "output_type": "display_data",
          "data": {
            "text/plain": [
              "<Figure size 640x480 with 1 Axes>"
            ],
            "image/png": "[encoded data removed]"
          },
          "metadata": {}
        }
      ]
    },
    {
      "cell_type": "markdown",
      "source": [
        "Write a program to show binomial distribution of getting a six in three tosses of an unbiased dice."
      ],
      "metadata": {
        "id": "GZfZvBc1uT_7"
      }
    },
    {
      "cell_type": "code",
      "source": [
        "import numpy as np\n",
        "import matplotlib.pyplot as plt\n",
        "from scipy.stats import binom\n",
        "\n",
        "# Number of tosses\n",
        "n_tosses = 3\n",
        "\n",
        "# Probability of success (getting a six in one toss of an unbiased die)\n",
        "p_success = 1 / 6\n",
        "\n",
        "# Number of trials\n",
        "n_trials = 1000\n",
        "\n",
        "# Generate the binomial distribution\n",
        "n_successes = np.arange(0, n_tosses+1)\n",
        "binomial_dist = binom.pmf(n_successes, n_tosses, p_success)\n",
        "\n",
        "# Simulated probability of getting a six in three tosses\n",
        "simulated_probability = np.sum(np.random.randint(1, 7, (n_trials, n_tosses)) == 6, axis=1)\n",
        "simulated_probability = np.sum(simulated_probability == 1) / n_trials\n",
        "\n",
        "print(f\"Simulated Probability of getting a six in three tosses: {simulated_probability}\")\n",
        "\n",
        "# Plotting the binomial distribution\n",
        "plt.bar(n_successes, binomial_dist, color='blue', alpha=0.7)\n",
        "plt.xlabel('Number of Sixes')\n",
        "plt.ylabel('Probability')\n",
        "plt.title('Binomial Distribution of Getting a Six in Three Tosses')\n",
        "plt.xticks(n_successes)\n",
        "plt.grid(axis='y', linestyle='--', alpha=0.7)\n",
        "plt.show()\n"
      ],
      "metadata": {
        "colab": {
          "base_uri": "https://localhost:8080/",
          "height": 489
        },
        "id": "gLb4OM4OvoSj",
        "outputId": "615cb278-ce94-477e-eefe-a615a32cd26a"
      },
      "execution_count": null,
      "outputs": [
        {
          "output_type": "stream",
          "name": "stdout",
          "text": [
            "Simulated Probability of getting a six in three tosses: 0.364\n"
          ]
        },
        {
          "output_type": "display_data",
          "data": {
            "text/plain": [
              "<Figure size 640x480 with 1 Axes>"
            ],
            "image/png": "[encoded data removed]"
          },
          "metadata": {}
        }
      ]
    },
    {
      "cell_type": "markdown",
      "source": [
        "Write a Python program to generate random data following a normal distribution. Generate data with different mean and standard deviation parameters and visualize the distribution using histograms or density plots."
      ],
      "metadata": {
        "id": "hszu0wC-vs9E"
      }
    },
    {
      "cell_type": "code",
      "source": [
        "import numpy as np\n",
        "import matplotlib.pyplot as plt\n",
        "import seaborn as sns\n",
        "\n",
        "# Generate random data following a normal distribution with mean and standard deviation parameters\n",
        "def generate_normal_data(mean, std_dev, size):\n",
        "    return np.random.normal(mean, std_dev, size)\n",
        "\n",
        "# Parameters for the normal distribution\n",
        "params = [\n",
        "    {'mean': 0, 'std_dev': 1, 'label': 'Mean=0, Std Dev=1'},\n",
        "    {'mean': 0, 'std_dev': 2, 'label': 'Mean=0, Std Dev=2'},\n",
        "    {'mean': 1, 'std_dev': 1, 'label': 'Mean=1, Std Dev=1'},\n",
        "    {'mean': -1, 'std_dev': 0.5, 'label': 'Mean=-1, Std Dev=0.5'}\n",
        "]\n",
        "\n",
        "# Number of data points to generate\n",
        "size = 1000\n",
        "\n",
        "# Generate and visualize the distributions\n",
        "plt.figure(figsize=(15, 10))\n",
        "\n",
        "for param in params:\n",
        "    data = generate_normal_data(param['mean'], param['std_dev'], size)\n",
        "\n",
        "    # Histogram\n",
        "    plt.subplot(2, 2, 1)\n",
        "    plt.hist(data, bins=30, alpha=0.6, label=param['label'])\n",
        "    plt.title('Histogram of Normal Distribution')\n",
        "    plt.xlabel('Value')\n",
        "    plt.ylabel('Frequency')\n",
        "    plt.legend()\n",
        "\n",
        "    # Density plot\n",
        "    plt.subplot(2, 2, 2)\n",
        "    sns.kdeplot(data, shade=True, label=param['label'])\n",
        "    plt.title('Density Plot of Normal Distribution')\n",
        "    plt.xlabel('Value')\n",
        "    plt.ylabel('Density')\n",
        "    plt.legend()\n",
        "\n",
        "plt.tight_layout()\n",
        "plt.show()\n"
      ],
      "metadata": {
        "colab": {
          "base_uri": "https://localhost:8080/",
          "height": 959
        },
        "id": "Wi4MAEk2vsNb",
        "outputId": "fde8c954-fdda-4f10-cdec-35c72e9e6a27"
      },
      "execution_count": null,
      "outputs": [
        {
          "output_type": "stream",
          "name": "stderr",
          "text": [
            "<ipython-input-18-0a8c761f2858>:36: FutureWarning: \n",
            "\n",
            "`shade` is now deprecated in favor of `fill`; setting `fill=True`.\n",
            "This will become an error in seaborn v0.14.0; please update your code.\n",
            "\n",
            "  sns.kdeplot(data, shade=True, label=param['label'])\n",
            "<ipython-input-18-0a8c761f2858>:36: FutureWarning: \n",
            "\n",
            "`shade` is now deprecated in favor of `fill`; setting `fill=True`.\n",
            "This will become an error in seaborn v0.14.0; please update your code.\n",
            "\n",
            "  sns.kdeplot(data, shade=True, label=param['label'])\n",
            "<ipython-input-18-0a8c761f2858>:36: FutureWarning: \n",
            "\n",
            "`shade` is now deprecated in favor of `fill`; setting `fill=True`.\n",
            "This will become an error in seaborn v0.14.0; please update your code.\n",
            "\n",
            "  sns.kdeplot(data, shade=True, label=param['label'])\n",
            "<ipython-input-18-0a8c761f2858>:36: FutureWarning: \n",
            "\n",
            "`shade` is now deprecated in favor of `fill`; setting `fill=True`.\n",
            "This will become an error in seaborn v0.14.0; please update your code.\n",
            "\n",
            "  sns.kdeplot(data, shade=True, label=param['label'])\n"
          ]
        },
        {
          "output_type": "display_data",
          "data": {
            "text/plain": [
              "<Figure size 1500x1000 with 2 Axes>"
            ],
            "image/png": "[encoded data removed]"
          },
          "metadata": {}
        }
      ]
    }
  ]
}